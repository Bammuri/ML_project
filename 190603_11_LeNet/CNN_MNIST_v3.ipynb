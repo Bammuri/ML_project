{
 "cells": [
  {
   "cell_type": "markdown",
   "metadata": {},
   "source": [
    "# Convolutional Neural Networks: MNIST\n",
    "\n",
    "In this notebook, you will:\n",
    "\n",
    "- Implement helper functions that you will use when implementing a TensorFlow model\n",
    "- Implement a fully functioning ConvNet using TensorFlow \n",
    "\n",
    "**After this assignment you will be able to:**\n",
    "\n",
    "- Build and train a ConvNet in TensorFlow for a classification problem \n",
    "\n",
    "We assume here that you are already familiar with TensorFlow. "
   ]
  },
  {
   "cell_type": "markdown",
   "metadata": {},
   "source": [
    "## 1.0 - TensorFlow model\n",
    "\n",
    "Most practical applications of deep learning today are built using programming frameworks, which have many built-in functions you can simply call. \n",
    "\n",
    "We will start by loading in the packages. \n",
    "\n",
    "The MNIST Dataset is located at http://yann.lecun.com/exdb/mnist/. Each image has $28 \\times 28$ dimension.\n",
    "\n",
    "-train-images-idx3-ubyte.gz:  training set images (9912422 bytes) including 55000 examples <br>\n",
    "-train-labels-idx1-ubyte.gz:  training set labels (28881 bytes) <br>\n",
    "-t10k-images-idx3-ubyte.gz:   test set images (1648877 bytes) including 10000 examples <br>\n",
    "-t10k-labels-idx1-ubyte.gz:   test set labels (4542 bytes)"
   ]
  },
  {
   "cell_type": "code",
   "execution_count": 1,
   "metadata": {},
   "outputs": [],
   "source": [
    "import math\n",
    "import numpy as np\n",
    "#import h5py\n",
    "import matplotlib.pyplot as plt\n",
    "#import scipy\n",
    "#from PIL import Image\n",
    "from scipy import ndimage\n",
    "import tensorflow as tf\n",
    "from tensorflow.python.framework import ops\n",
    "from cnn_utils import *\n",
    "\n",
    "%matplotlib inline\n",
    "np.random.seed(1)"
   ]
  },
  {
   "cell_type": "code",
   "execution_count": 2,
   "metadata": {},
   "outputs": [
    {
     "name": "stdout",
     "output_type": "stream",
     "text": [
      "WARNING:tensorflow:From <ipython-input-2-cb06251fc75a>:3: read_data_sets (from tensorflow.contrib.learn.python.learn.datasets.mnist) is deprecated and will be removed in a future version.\n",
      "Instructions for updating:\n",
      "Please use alternatives such as official/mnist/dataset.py from tensorflow/models.\n",
      "WARNING:tensorflow:From C:\\ProgramData\\Anaconda3\\envs\\tf_gpu\\lib\\site-packages\\tensorflow\\contrib\\learn\\python\\learn\\datasets\\mnist.py:260: maybe_download (from tensorflow.contrib.learn.python.learn.datasets.base) is deprecated and will be removed in a future version.\n",
      "Instructions for updating:\n",
      "Please write your own downloading logic.\n",
      "WARNING:tensorflow:From C:\\ProgramData\\Anaconda3\\envs\\tf_gpu\\lib\\site-packages\\tensorflow\\contrib\\learn\\python\\learn\\datasets\\mnist.py:262: extract_images (from tensorflow.contrib.learn.python.learn.datasets.mnist) is deprecated and will be removed in a future version.\n",
      "Instructions for updating:\n",
      "Please use tf.data to implement this functionality.\n",
      "Extracting MNIST_data/train-images-idx3-ubyte.gz\n",
      "WARNING:tensorflow:From C:\\ProgramData\\Anaconda3\\envs\\tf_gpu\\lib\\site-packages\\tensorflow\\contrib\\learn\\python\\learn\\datasets\\mnist.py:267: extract_labels (from tensorflow.contrib.learn.python.learn.datasets.mnist) is deprecated and will be removed in a future version.\n",
      "Instructions for updating:\n",
      "Please use tf.data to implement this functionality.\n",
      "Extracting MNIST_data/train-labels-idx1-ubyte.gz\n",
      "WARNING:tensorflow:From C:\\ProgramData\\Anaconda3\\envs\\tf_gpu\\lib\\site-packages\\tensorflow\\contrib\\learn\\python\\learn\\datasets\\mnist.py:110: dense_to_one_hot (from tensorflow.contrib.learn.python.learn.datasets.mnist) is deprecated and will be removed in a future version.\n",
      "Instructions for updating:\n",
      "Please use tf.one_hot on tensors.\n",
      "Extracting MNIST_data/t10k-images-idx3-ubyte.gz\n",
      "Extracting MNIST_data/t10k-labels-idx1-ubyte.gz\n",
      "WARNING:tensorflow:From C:\\ProgramData\\Anaconda3\\envs\\tf_gpu\\lib\\site-packages\\tensorflow\\contrib\\learn\\python\\learn\\datasets\\mnist.py:290: DataSet.__init__ (from tensorflow.contrib.learn.python.learn.datasets.mnist) is deprecated and will be removed in a future version.\n",
      "Instructions for updating:\n",
      "Please use alternatives such as official/mnist/dataset.py from tensorflow/models.\n",
      "number of training examples = 55000\n",
      "number of test examples = 10000\n",
      "X_train shape: (55000, 28, 28, 1)\n",
      "Y_train shape: (55000, 10)\n",
      "X_test shape: (10000, 28, 28, 1)\n",
      "Y_test shape: (10000, 10)\n",
      "[0. 0. 0. 0. 1. 0. 0. 0. 0. 0.]\n"
     ]
    },
    {
     "data": {
      "image/png": "[encoded data removed]",
      "text/plain": [
       "<Figure size 432x288 with 1 Axes>"
      ]
     },
     "metadata": {
      "needs_background": "light"
     },
     "output_type": "display_data"
    }
   ],
   "source": [
    "from tensorflow.examples.tutorials.mnist import input_data\n",
    "\n",
    "mnist = input_data.read_data_sets(\"MNIST_data/\", one_hot=True)\n",
    "\n",
    "X_train = np.vstack([img.reshape(-1,28,28,1) for img in mnist.train.images])\n",
    "Y_train = mnist.train.labels\n",
    "X_test = np.vstack([img.reshape(-1,28,28,1) for img in mnist.test.images])\n",
    "Y_test = mnist.test.labels\n",
    "\n",
    "\n",
    "print (\"number of training examples = \" + str(X_train.shape[0]))\n",
    "print (\"number of test examples = \" + str(X_test.shape[0]))\n",
    "print (\"X_train shape: \" + str(X_train.shape))\n",
    "print (\"Y_train shape: \" + str(Y_train.shape))\n",
    "print (\"X_test shape: \" + str(X_test.shape))\n",
    "print (\"Y_test shape: \" + str(Y_test.shape))\n",
    "\n",
    "index = 101\n",
    "plt.imshow(X_train[index].reshape(28,28), cmap='gray')\n",
    "print(Y_train[index])\n",
    "del mnist"
   ]
  },
  {
   "cell_type": "markdown",
   "metadata": {},
   "source": [
    "Previously, you had built a fully-connected network. But since this is an image dataset, it is more natural to apply a ConvNet to it.\n",
    "\n",
    "Here is the model we build.\n",
    "\n",
    "<table>\n",
    "<td>\n",
    "<img src=\"images/cnn.jpg\" style=\"width:250;height:300px;\">\n",
    "</td>\n",
    "</table>\n"
   ]
  },
  {
   "cell_type": "markdown",
   "metadata": {
    "collapsed": true
   },
   "source": [
    "### 1.1 - Create placeholders\n",
    "\n",
    "TensorFlow requires that you create placeholders for the input data that will be fed into the model when running the session.\n",
    "\n",
    "**Exercise**: Implement the function below to create placeholders for the input image X and the output Y. You should not define the number of training examples for the moment. To do so, you could use \"None\" as the batch size, it will give you the flexibility to choose it later. Hence X should be of dimension **[None, n_H0, n_W0, n_C0]** and Y should be of dimension **[None, n_y]**.  [Hint](https://www.tensorflow.org/api_docs/python/tf/placeholder)."
   ]
  },
  {
   "cell_type": "code",
   "execution_count": 7,
   "metadata": {},
   "outputs": [],
   "source": [
    "# GRADED FUNCTION: create_placeholders\n",
    "\n",
    "def create_placeholders(n_H0, n_W0, n_C0, n_y):\n",
    "    \"\"\"\n",
    "    Creates the placeholders for the tensorflow session.\n",
    "    \n",
    "    Arguments:\n",
    "    n_H0 -- scalar, height of an input image\n",
    "    n_W0 -- scalar, width of an input image\n",
    "    n_C0 -- scalar, number of channels of the input\n",
    "    n_y -- scalar, number of classes\n",
    "        \n",
    "    Returns:\n",
    "    X -- placeholder for the data input, of shape [None, n_H0, n_W0, n_C0] and dtype \"float32\"\n",
    "    Y -- placeholder for the input labels, of shape [None, n_y] and dtype \"float32\"\n",
    "    \"\"\"\n",
    "\n",
    "    ### START CODE HERE ### (≈2 lines)\n",
    "    ### Use \"tf.placeholder()\" with type=tf.float32 and name=\"X\"\n",
    "    X = tf.placeholder(tf.float32, shape=[None, n_H0, n_W0, n_C0], name=\"X\")\n",
    "    ### Use \"tf.placeholder()\" with type=tf.float32 and name=\"Y\"\n",
    "    Y = tf.placeholder(tf.float32, shape=[None, n_y], name=\"Y\")\n",
    "    ### END CODE HERE ###\n",
    "    \n",
    "    return X, Y"
   ]
  },
  {
   "cell_type": "code",
   "execution_count": 8,
   "metadata": {},
   "outputs": [
    {
     "name": "stdout",
     "output_type": "stream",
     "text": [
      "X = Tensor(\"X:0\", shape=(?, 64, 64, 3), dtype=float32)\n",
      "Y = Tensor(\"Y:0\", shape=(?, 6), dtype=float32)\n"
     ]
    }
   ],
   "source": [
    "X, Y = create_placeholders(64, 64, 3, 6)\n",
    "print (\"X = \" + str(X))\n",
    "print (\"Y = \" + str(Y))"
   ]
  },
  {
   "cell_type": "markdown",
   "metadata": {},
   "source": [
    "**Expected Output**\n",
    "\n",
    "<table> \n",
    "<tr>\n",
    "<td>\n",
    "    X = Tensor(\"Placeholder:0\", shape=(?, 64, 64, 3), dtype=float32)\n",
    "\n",
    "</td>\n",
    "</tr>\n",
    "<tr>\n",
    "<td>\n",
    "    Y = Tensor(\"Placeholder_1:0\", shape=(?, 6), dtype=float32)\n",
    "\n",
    "</td>\n",
    "</tr>\n",
    "</table>"
   ]
  },
  {
   "cell_type": "markdown",
   "metadata": {},
   "source": [
    "### 1.2 - Initialize parameters\n",
    "\n",
    "You will initialize weights/filters $W1$ and $W2$ using `tf.contrib.layers.xavier_initializer(seed = 0)`. Note that you will only initialize the weights/filters for the conv2d functions. TensorFlow initializes the layers for the fully connected part automatically. \n",
    "\n",
    "**Exercise:** Implement initialize_parameters(). The dimensions for each group of filters are provided below. Reminder - to initialize a parameter $W$ of shape [1,2,3,4] in Tensorflow, use:\n",
    "```python\n",
    "W = tf.get_variable(\"W\", [1,2,3,4], initializer = ...)\n",
    "```\n",
    "[More Info](https://www.tensorflow.org/api_docs/python/tf/get_variable)."
   ]
  },
  {
   "cell_type": "code",
   "execution_count": 14,
   "metadata": {},
   "outputs": [],
   "source": [
    "# GRADED FUNCTION: initialize_parameters\n",
    "\n",
    "def initialize_parameters():\n",
    "    \"\"\"\n",
    "    Initializes weight parameters to build a neural network with tensorflow. The shapes are:\n",
    "                        Wx : [filter_height, filter_width, in_channels, out_channels]\n",
    "                        W1 : [5, 5, 1, 32]\n",
    "                        W2 : [5, 5, 32, 64]\n",
    "                        B1 : [32]\n",
    "                        B2 : [64]\n",
    "    Returns:\n",
    "    parameters -- a dictionary of tensors containing W1, W2\n",
    "    \"\"\"\n",
    "    \n",
    "    tf.set_random_seed(1)                              # so that your \"random\" numbers match ours\n",
    "        \n",
    "    ### START CODE HERE ### (approx. 2 lines of code)\n",
    "    # use tf.contrib.layers.xavier_initializer(seed=0) for Wx\n",
    "    # use tf.random_normal_initializer(seed=0) for Bx\n",
    "    # names for W1, W2, B1, B2 are \"W1\", \"W2\", \"B1\", \"B2\"\n",
    "    W1 = tf.get_variable(\"W1\", [5,5,1,32], initializer=tf.contrib.layers.xavier_initializer(seed=0))\n",
    "    W2 = tf.get_variable(\"W2\", [5,5,32,64], initializer=tf.contrib.layers.xavier_initializer(seed=0))\n",
    "    \n",
    "    B1 = tf.get_variable('B1', [32], initializer=tf.random_normal_initializer(seed=0))\n",
    "    B2 = tf.get_variable('B2', [64], initializer=tf.random_normal_initializer(seed=0))\n",
    "    ### END CODE HERE ###\n",
    "\n",
    "    parameters = {\"W1\": W1,\n",
    "                  \"W2\": W2,\n",
    "                  \"B1\": B1,\n",
    "                  \"B2\": B2}\n",
    "    \n",
    "    return parameters"
   ]
  },
  {
   "cell_type": "code",
   "execution_count": 15,
   "metadata": {},
   "outputs": [
    {
     "name": "stdout",
     "output_type": "stream",
     "text": [
      "W1 = [-0.05074088  0.00199553  0.00414077 -0.04069575 -0.04086844  0.00398856\n",
      "  0.07175875  0.023808   -0.02326647  0.04586978 -0.08235063  0.00816405\n",
      " -0.0385248  -0.02892781  0.00744654  0.07795027 -0.05518249  0.05105729\n",
      " -0.05234016  0.04300165 -0.04925928  0.0612269  -0.03208476 -0.05321277\n",
      "  0.07479723 -0.06783506 -0.05706007 -0.07336373  0.03016851  0.00548052\n",
      " -0.04078463 -0.06712879]\n",
      "W2 = [-0.03979962 -0.01044408  0.00160269  0.00974461 -0.00254961 -0.03201561\n",
      "  0.01373079 -0.01104505 -0.00841881 -0.0405      0.01020548 -0.03208991\n",
      " -0.00377375  0.00840064 -0.02394277 -0.00931381 -0.02332927  0.00155168\n",
      "  0.04541015 -0.03421994 -0.03484461  0.03370252 -0.03387171  0.03562606\n",
      "  0.02762317 -0.0401171  -0.01749424 -0.01980509 -0.01918935 -0.03243086\n",
      " -0.03648937  0.02757055  0.04312921  0.03236486 -0.01132439  0.04101669\n",
      " -0.02529923 -0.03054604 -0.04599814  0.02845765  0.03051175  0.03806292\n",
      "  0.03111282  0.01980932  0.03713584 -0.01831943  0.02628484  0.04115831\n",
      " -0.00318412  0.00770112 -0.01159302  0.01928938  0.02738483  0.03404368\n",
      " -0.01715547 -0.04512585 -0.00854967  0.02034478 -0.00865594  0.02739711\n",
      "  0.00798912 -0.03626674 -0.03301056  0.03195414]\n"
     ]
    }
   ],
   "source": [
    "tf.reset_default_graph()\n",
    "with tf.Session() as sess_test:\n",
    "    parameters = initialize_parameters()\n",
    "    init = tf.global_variables_initializer()\n",
    "    sess_test.run(init)\n",
    "    print(\"W1 = \" + str(parameters[\"W1\"].eval()[1,1,0]))\n",
    "    print(\"W2 = \" + str(parameters[\"W2\"].eval()[1,1,0]))"
   ]
  },
  {
   "cell_type": "markdown",
   "metadata": {},
   "source": [
    "** Expected Output:**\n",
    "\n",
    "<table> \n",
    "    <tr>\n",
    "        <td>\n",
    "        W1 = \n",
    "        </td>\n",
    "        <td>\n",
    "[-0.05074088  0.00199553  0.00414077 -0.04069575 -0.04086844  0.00398856 <br>\n",
    "  0.07175875  0.023808   -0.02326647  0.04586978 -0.08235063  0.00816405 <br>\n",
    " -0.0385248  -0.02892781  0.00744654  0.07795027 -0.05518249  0.05105729 <br>\n",
    " -0.05234016  0.04300165 -0.04925928  0.0612269  -0.03208476 -0.05321277 <br>\n",
    "  0.07479723 -0.06783506 -0.05706007 -0.07336373  0.03016851  0.00548052 <br>\n",
    " -0.04078463 -0.06712879]\n",
    "        </td>\n",
    "    </tr>\n",
    "    <tr>\n",
    "        <td>\n",
    "        W2 = \n",
    "        </td>\n",
    "        <td>\n",
    "[-0.03979962 -0.01044408  0.00160269  0.00974461 -0.00254961 -0.03201561 <br>\n",
    "  0.01373079 -0.01104505 -0.00841881 -0.0405      0.01020548 -0.03208991 <br>\n",
    " -0.00377375  0.00840064 -0.02394277 -0.00931381 -0.02332927  0.00155168 <br>\n",
    "  0.04541015 -0.03421994 -0.03484461  0.03370252 -0.03387171  0.03562606 <br>\n",
    "  0.02762317 -0.0401171  -0.01749424 -0.01980509 -0.01918935 -0.03243086 <br>\n",
    " -0.03648937  0.02757055  0.04312921  0.03236486 -0.01132439  0.04101669 <br>\n",
    " -0.02529923 -0.03054604 -0.04599814  0.02845765  0.03051175  0.03806292 <br>\n",
    "  0.03111282  0.01980932  0.03713584 -0.01831943  0.02628484  0.04115831 <br>\n",
    " -0.00318412  0.00770112 -0.01159302  0.01928938  0.02738483  0.03404368 <br>\n",
    " -0.01715547 -0.04512585 -0.00854967  0.02034478 -0.00865594  0.02739711 <br>\n",
    "  0.00798912 -0.03626674 -0.03301056  0.03195414]\n",
    "        </td>\n",
    "    </tr>\n",
    "\n",
    "</table>"
   ]
  },
  {
   "cell_type": "markdown",
   "metadata": {},
   "source": [
    "### 1.2 - Forward propagation\n",
    "\n",
    "In TensorFlow, there are built-in functions that carry out the convolution steps for you.\n",
    "\n",
    "- **tf.nn.conv2d(X,W1, strides = [1,s,s,1], padding = 'SAME'):** given an input $X$ and a group of filters $W1$, this function convolves $W1$'s filters on X. The third input ([1,f,f,1]) represents the strides for each dimension of the input (m, n_H_prev, n_W_prev, n_C_prev). You can read the full documentation [here](https://www.tensorflow.org/api_docs/python/tf/nn/conv2d)\n",
    "\n",
    "- **tf.nn.bias_add(value, bias, ...):** adds bias to value. [here](https://www.tensorflow.org/api_docs/python/tf/nn/bias_add)\n",
    "\n",
    "- **tf.nn.relu(Z1):** computes the elementwise ReLU of Z1 (which can be any shape). You can read the full documentation [here.](https://www.tensorflow.org/api_docs/python/tf/nn/relu)\n",
    "\n",
    "- **tf.nn.max_pool(A, ksize = [1,f,f,1], strides = [1,s,s,1], padding = 'SAME'):** given an input A, this function uses a window of size (f, f) and strides of size (s, s) to carry out max pooling over each window. You can read the full documentation [here](https://www.tensorflow.org/api_docs/python/tf/nn/max_pool)\n",
    "\n",
    "- **tf.contrib.layers.flatten(P)**: given an input P, this function flattens each example into a 1D vector it while maintaining the batch-size. It returns a flattened tensor with shape [batch_size, k]. You can read the full documentation [here.](https://www.tensorflow.org/api_docs/python/tf/contrib/layers/flatten)\n",
    "\n",
    "- **tf.contrib.layers.fully_connected(F, num_outputs):** given a the flattened input F, it returns the output computed using a fully connected layer. You can read the full documentation [here.](https://www.tensorflow.org/api_docs/python/tf/contrib/layers/fully_connected)\n",
    "\n",
    "In the last function above (`tf.contrib.layers.fully_connected`), the fully connected layer automatically initializes weights in the graph and keeps on training them as you train the model. Hence, you did not need to initialize those weights when initializing the parameters. \n",
    "\n",
    "\n",
    "**Exercise**: \n",
    "\n",
    "Implement the `forward_propagation` function below to build the following model: `CONV2D -> RELU -> MAXPOOL -> CONV2D -> RELU -> MAXPOOL -> FLATTEN -> FULLYCONNECTED`. You should use the functions above. \n",
    "\n",
    "In detail, we will use the following parameters for all the steps:\n",
    "     - Conv2D: stride 1, padding is \"SAME\"\n",
    "     - ReLU\n",
    "     - Max pool: Use an 8 by 8 filter size and an 8 by 8 stride, padding is \"SAME\"\n",
    "     - Conv2D: stride 1, padding is \"SAME\"\n",
    "     - ReLU\n",
    "     - Max pool: Use a 4 by 4 filter size and a 4 by 4 stride, padding is \"SAME\"\n",
    "     - Flatten the previous output.\n",
    "     - FULLYCONNECTED (FC) layer: Apply a fully connected layer without an non-linear activation function. Do not call the softmax here. This will result in 6 neurons in the output layer, which then get passed later to a softmax. In TensorFlow, the softmax and cost function are lumped together into a single function, which you'll call in a different function when computing the cost. "
   ]
  },
  {
   "cell_type": "code",
   "execution_count": 16,
   "metadata": {},
   "outputs": [],
   "source": [
    "# GRADED FUNCTION: forward_propagation\n",
    "\n",
    "def forward_propagation(X, parameters):\n",
    "    \"\"\"\n",
    "    Implements the forward propagation for the model:\n",
    "    CONV2D -> RELU -> MAXPOOL -> CONV2D -> RELU -> MAXPOOL -> FLATTEN -> FULLYCONNECTED\n",
    "    \n",
    "    Arguments:\n",
    "    X -- input dataset placeholder, of shape (input size, number of examples)\n",
    "    parameters -- python dictionary containing your parameters \"W1\", \"W2\"\n",
    "                  the shapes are given in initialize_parameters\n",
    "\n",
    "    Returns:\n",
    "    Z3 -- the output of the last LINEAR unit\n",
    "    \"\"\"\n",
    "    \n",
    "    # Retrieve the parameters from the dictionary \"parameters\" \n",
    "    W1 = parameters['W1']\n",
    "    W2 = parameters['W2']\n",
    "    B1 = parameters['B1']\n",
    "    B2 = parameters['B2']\n",
    "    \n",
    "    ### START CODE HERE ###\n",
    "    # CONV2D: filter W1, stride 1, padding 'SAME', use tf.nn.conv2d()\n",
    "    # Add bias B1 with tf.nn.bias_add()\n",
    "    # Z1's shape : (m, 28, 28, 32), \n",
    "    Z1 = tf.nn.conv2d(X, W1, strides = [1,1,1,1], padding = 'SAME') \n",
    "    Z1 = tf.nn.bias_add(Z1, B1)\n",
    "    # RELU for Z1, use tf.nn.relu()\n",
    "    A1 = tf.nn.relu(Z1)\n",
    "    # MAXPOOL: filter 2x2, sride 2, padding 'SAME', use tf.nn.max_pool()\n",
    "    # P1's shape : (?, 14, 14, 32)\n",
    "    P1 = tf.nn.max_pool(A1, ksize = [1,2,2,1], strides = [1,2,2,1], padding = 'SAME') \n",
    "    \n",
    "    # CONV2D: filters W2, stride 1, padding 'SAME', use.tf.nn.conv2d()\n",
    "    # Add bias B2 with tf.nn.bias_add()\n",
    "    # Z2's shape : (?, 14, 14, 64)\n",
    "    Z2 = tf.nn.conv2d(P1, W2, strides = [1,1,1,1], padding = 'SAME')\n",
    "    Z2 = tf.nn.bias_add(Z2, B2)\n",
    "    # RELU for Z2, use tf.nn.relu()\n",
    "    A2 = tf.nn.relu(Z2)\n",
    "    # MAXPOOL: filter 2x2, stride 2, padding 'SAME', use tf.nn.max_pool()\n",
    "    # P2's shape : (?, 7, 7, 64)\n",
    "    P2 = tf.nn.max_pool(A2, ksize = [1,2,2,1], strides = [1,2,2,1], padding = 'SAME')\n",
    "\n",
    "    # FLATTEN, use tf.contrib.layers.flatten()\n",
    "    # P2's shape : (m, 3136)\n",
    "    P2 = tf.contrib.layers.flatten(P2)  \n",
    "    \n",
    "    # fully connected layer. #node=1024, act=relu, use tf.contrib.layers.fully_connected()\n",
    "    # Z3's shape : (?, 1024)\n",
    "    Z3 = tf.contrib.layers.fully_connected(P2, num_outputs=1024, activation_fn=tf.nn.relu )\n",
    "\n",
    "    # fully connected layer, #node=10, act=None, initialize with  tf.contrib.layers.xavier_initializer()\n",
    "    # use tf.layers.dense()\n",
    "    logits = tf.layers.dense(inputs=Z3, units=10, kernel_initializer=tf.contrib.layers.xavier_initializer())\n",
    "    \n",
    "    ### END CODE HERE ###\n",
    "\n",
    "    return logits"
   ]
  },
  {
   "cell_type": "code",
   "execution_count": 17,
   "metadata": {},
   "outputs": [
    {
     "name": "stdout",
     "output_type": "stream",
     "text": [
      "Z3 = [[ 1.6433814   0.09292804 -0.4144864   0.19318986 -1.4254317   0.6322006\n",
      "   1.1689515  -1.9045432   2.38256    -0.7146146 ]\n",
      " [ 1.7232502  -0.04295376 -0.42504033  0.16847605 -1.3597813   0.61145085\n",
      "   1.1773642  -1.9650522   2.3088608  -0.62913966]]\n"
     ]
    }
   ],
   "source": [
    "tf.reset_default_graph()\n",
    "\n",
    "with tf.Session() as sess:\n",
    "    np.random.seed(1)\n",
    "    X, Y = create_placeholders(28, 28, 1, 10)\n",
    "    parameters = initialize_parameters()\n",
    "    Z3 = forward_propagation(X, parameters)\n",
    "    init = tf.global_variables_initializer()\n",
    "    sess.run(init)\n",
    "    a = sess.run(Z3, {X: np.random.randn(2,28, 28, 1), Y: np.random.randn(2,10)})\n",
    "    print(\"Z3 = \" + str(a))"
   ]
  },
  {
   "cell_type": "markdown",
   "metadata": {},
   "source": [
    "**Expected Output**:\n",
    "\n",
    "<table> \n",
    "    <td> \n",
    "    Z3 =\n",
    "    </td>\n",
    "    <td>\n",
    "[[ 1.6433814   0.09292804 -0.4144864   0.19318986 -1.4254317   0.6322006\n",
    "   1.1689515  -1.9045432   2.38256    -0.7146146 ]<br>\n",
    " [ 1.7232502  -0.04295376 -0.42504033  0.16847605 -1.3597813   0.61145085\n",
    "   1.1773642  -1.9650522   2.3088608  -0.62913966]]\n",
    "    </td>\n",
    "</table>"
   ]
  },
  {
   "cell_type": "markdown",
   "metadata": {},
   "source": [
    "### 1.3 - Compute cost\n",
    "\n",
    "Implement the compute cost function below. You might find these two functions helpful: \n",
    "\n",
    "- **tf.nn.softmax_cross_entropy_with_logits(logits = Z3, labels = Y):** computes the softmax entropy loss. This function both computes the softmax activation function as well as the resulting loss. You can check the full documentation  [here.](https://www.tensorflow.org/api_docs/python/tf/nn/softmax_cross_entropy_with_logits)\n",
    "- **tf.reduce_mean:** computes the mean of elements across dimensions of a tensor. Use this to sum the losses over all the examples to get the overall cost. You can check the full documentation [here.](https://www.tensorflow.org/api_docs/python/tf/reduce_mean)\n",
    "\n",
    "** Exercise**: Compute the cost below using the function above."
   ]
  },
  {
   "cell_type": "code",
   "execution_count": 18,
   "metadata": {},
   "outputs": [],
   "source": [
    "# GRADED FUNCTION: compute_cost \n",
    "\n",
    "def compute_cost(Z3, Y):\n",
    "    \"\"\"\n",
    "    Computes the cost\n",
    "    \n",
    "    Arguments:\n",
    "    Z3 -- output of forward propagation (output of the last LINEAR unit), of shape (?, 10)\n",
    "    Y -- \"true\" labels vector placeholder, same shape as Z3\n",
    "    \n",
    "    Returns:\n",
    "    cost - Tensor of the cost function\n",
    "    \"\"\"\n",
    "    \n",
    "    ### START CODE HERE ### (1 line of code)\n",
    "    # Compute cost with logits and Y\n",
    "    # use tf.nn.softmax_cross_entropy_with_logits() and tf.reduce_mean()\n",
    "    cost = tf.reduce_mean( tf.nn.softmax_cross_entropy_with_logits(logits = Z3, labels = Y), axis=0)\n",
    "    ### END CODE HERE ###\n",
    "    \n",
    "    return cost"
   ]
  },
  {
   "cell_type": "code",
   "execution_count": 19,
   "metadata": {},
   "outputs": [
    {
     "name": "stdout",
     "output_type": "stream",
     "text": [
      "cost = -4.362235\n"
     ]
    }
   ],
   "source": [
    "tf.reset_default_graph()\n",
    "\n",
    "with tf.Session() as sess:\n",
    "    np.random.seed(1)\n",
    "    X, Y = create_placeholders(64, 64, 1, 10) # (n_H0, n_W0, n_C0, n_y)\n",
    "    parameters = initialize_parameters()\n",
    "    Z3 = forward_propagation(X, parameters)\n",
    "    cost = compute_cost(Z3, Y)\n",
    "    init = tf.global_variables_initializer()\n",
    "    sess.run(init)\n",
    "    a = sess.run(cost, {X: np.random.randn(4,64,64,1), Y: np.random.randn(4,10)})\n",
    "    print(\"cost = \" + str(a))"
   ]
  },
  {
   "cell_type": "markdown",
   "metadata": {},
   "source": [
    "**Expected Output**: \n",
    "\n",
    "<table>\n",
    "    <td> \n",
    "    cost =\n",
    "    </td> \n",
    "    <td> \n",
    "    -4.362235\n",
    "    </td> \n",
    "</table>"
   ]
  },
  {
   "cell_type": "markdown",
   "metadata": {},
   "source": [
    "## 1.4 Model \n",
    "\n",
    "Finally you will merge the helper functions you implemented above to build a model.  \n",
    "\n",
    "**Exercise**: Complete the function below. \n",
    "\n",
    "The model below should:\n",
    "\n",
    "- create placeholders\n",
    "- initialize parameters\n",
    "- forward propagate\n",
    "- compute the cost\n",
    "- create an optimizer\n",
    "\n",
    "Finally you will create a session and run a for loop  for num_epochs, get the mini-batches, and then for each mini-batch you will optimize the function. [Hint for initializing the variables](https://www.tensorflow.org/api_docs/python/tf/global_variables_initializer)"
   ]
  },
  {
   "cell_type": "code",
   "execution_count": 20,
   "metadata": {},
   "outputs": [],
   "source": [
    "# GRADED FUNCTION: model\n",
    "\n",
    "def model(X_train, Y_train, X_test, Y_test, learning_rate = 0.001,\n",
    "          num_epochs = 100, minibatch_size = 64, print_cost = True):\n",
    "    \"\"\"\n",
    "    Implements a ConvNet in Tensorflow:\n",
    "\n",
    "    Arguments:\n",
    "    X_train -- training set, of shape (None, 28, 28, 1)\n",
    "    Y_train -- test set, of shape (None, 10)\n",
    "    X_test -- training set, of shape (None, 28, 28, 1)\n",
    "    Y_test -- test set, of shape (None, 10)\n",
    "    learning_rate -- learning rate of the optimization\n",
    "    num_epochs -- number of epochs of the optimization loop\n",
    "    minibatch_size -- size of a minibatch\n",
    "    print_cost -- True to print the cost every 100 epochs\n",
    "    \n",
    "    Returns:\n",
    "    train_accuracy -- real number, accuracy on the train set (X_train)\n",
    "    test_accuracy -- real number, testing accuracy on the test set (X_test)\n",
    "    parameters -- parameters learnt by the model. They can then be used to predict.\n",
    "    \"\"\"\n",
    "    \n",
    "    ops.reset_default_graph()                         # to be able to rerun the model without overwriting tf variables\n",
    "    tf.set_random_seed(1)                             # to keep results consistent (tensorflow seed)\n",
    "    seed = 3                                          # to keep results consistent (numpy seed)\n",
    "    (m, n_H0, n_W0, n_C0) = X_train.shape             \n",
    "    n_y = Y_train.shape[1]                            \n",
    "    costs = []                                        # To keep track of the cost\n",
    "    \n",
    "    # Create Placeholders of the correct shape\n",
    "    ### START CODE HERE ### (1 line)\n",
    "    X, Y = create_placeholders(n_H0, n_W0, n_C0, n_y)\n",
    "    ### END CODE HERE ###\n",
    "    \n",
    "    dataset = tf.data.Dataset.from_tensor_slices((X, Y))\n",
    "    dataset = dataset.repeat().batch(minibatch_size)\n",
    "    iterator = dataset.make_initializable_iterator()\n",
    "    iter_init_op = iterator.make_initializer(dataset, name=\"iter_init_op\")\n",
    "    (x, y) = iterator.get_next()\n",
    "    \n",
    "    # Initialize conv filters and biases\n",
    "    ### START CODE HERE ### (1 line)\n",
    "    parameters = initialize_parameters()\n",
    "    ### END CODE HERE ###\n",
    "    \n",
    "    # Forward propagation: Build the forward propagation in the tensorflow graph\n",
    "    ### START CODE HERE ### (1 line)\n",
    "    Z3 = forward_propagation(x, parameters)\n",
    "    print(Z3)\n",
    "    ### END CODE HERE ###\n",
    "    \n",
    "    # Add cost function to tensorflow graph\n",
    "    ### START CODE HERE ### (1 line)\n",
    "    cost = compute_cost(Z3, y)\n",
    "    ### END CODE HERE ###\n",
    "    \n",
    "    # Use an AdamOptimizer that minimizes the cost.\n",
    "    # Use tf.train.AdamOptimizer and its member function minimize()\n",
    "    ### START CODE HERE ### (1 line)\n",
    "    optimizer = tf.train.AdamOptimizer(learning_rate).minimize(cost)\n",
    "    ### END CODE HERE ###\n",
    "    \n",
    "    # Initialize all the variables globally\n",
    "    init = tf.global_variables_initializer()\n",
    "\n",
    "    # Calculate the correct predictions\n",
    "    predict_op = tf.argmax(Z3, 1)\n",
    "    correct_prediction = tf.equal(predict_op, tf.argmax(y, 1), name=\"correct_prediction\")\n",
    "        \n",
    "    # Calculate accuracy on the test set\n",
    "    n_correct = tf.reduce_sum(tf.cast(correct_prediction, \"float\"), name=\"n_correct\")\n",
    "\n",
    "    # Save the model\n",
    "    saver = tf.train.Saver()\n",
    "    \n",
    "    # Start the session to compute the tensorflow graph\n",
    "    with tf.Session() as sess:\n",
    "\n",
    "        # compute the number of minibatches\n",
    "        num_minibatches = np.ceil(m / minibatch_size).astype(int)         \n",
    "        \n",
    "        # Run the initialization\n",
    "        sess.run([init, iter_init_op], feed_dict={X:X_train, Y:Y_train})\n",
    "\n",
    "        # Do the training loop\n",
    "        for epoch in range(num_epochs):\n",
    "\n",
    "            dataset.shuffle(100000)\n",
    "            minibatch_cost = 0.            \n",
    "            for i in range(num_minibatches):\n",
    "                # run session. use sess.run()\n",
    "                ### START CODE HERE ### (1 line)\n",
    "                _ , temp_cost = sess.run( [optimizer, cost] )\n",
    "                ### END CODE HERE ###\n",
    "                \n",
    "                minibatch_cost += temp_cost\n",
    "            minibatch_cost /= num_minibatches\n",
    "                \n",
    "            # Print the cost every epoch\n",
    "            if print_cost == True and epoch % 5 == 0:\n",
    "                print (\"Cost after epoch %i: %f\" % (epoch, minibatch_cost))\n",
    "            if print_cost == True and epoch % 1 == 0:\n",
    "                costs.append(minibatch_cost)\n",
    "        \n",
    "        saver.save(sess, 'backup/my_test_model')\n",
    "        \n",
    "        # plot the cost\n",
    "        plt.plot(np.squeeze(costs))\n",
    "        plt.ylabel('cost')\n",
    "        plt.xlabel('iterations (per tens)')\n",
    "        plt.title(\"Learning rate =\" + str(learning_rate))\n",
    "        plt.show()\n",
    "\n",
    "        N_correct = 0.0\n",
    "        sess.run(iterator.initializer, feed_dict={X:X_train, Y:Y_train})\n",
    "        for i in range(num_minibatches):\n",
    "            N_correct += n_correct.eval()\n",
    "        train_accuracy = N_correct / m\n",
    "        print(\"Train Accuracy:\", train_accuracy)\n",
    "        \n",
    "        num_minibatches = int(X_test.shape[0] / minibatch_size) \n",
    "        N_correct = 0.0\n",
    "        for i in range(num_minibatches):\n",
    "            N_correct += n_correct.eval()\n",
    "        test_accuracy = N_correct / X_test.shape[0]\n",
    "        print(\"Test Accuracy:\", test_accuracy )\n",
    "        \n",
    "        return train_accuracy, test_accuracy, parameters\n",
    "    "
   ]
  },
  {
   "cell_type": "markdown",
   "metadata": {},
   "source": [
    "Run the following cell to train your model for 100 epochs. Check if your cost after epoch 0 and 5 matches our output. If not, stop the cell and go back to your code!"
   ]
  },
  {
   "cell_type": "code",
   "execution_count": 21,
   "metadata": {
    "scrolled": true
   },
   "outputs": [
    {
     "name": "stdout",
     "output_type": "stream",
     "text": [
      "Tensor(\"dense/BiasAdd:0\", shape=(?, 10), dtype=float32)\n",
      "Cost after epoch 0: 0.943689\n",
      "Cost after epoch 5: 0.034615\n",
      "Cost after epoch 10: 0.014635\n",
      "Cost after epoch 15: 0.014377\n",
      "Cost after epoch 20: 0.007144\n",
      "Cost after epoch 25: 0.004588\n",
      "Cost after epoch 30: 0.008138\n",
      "Cost after epoch 35: 0.004733\n",
      "Cost after epoch 40: 0.005723\n",
      "Cost after epoch 45: 0.006281\n",
      "Cost after epoch 50: 0.002852\n",
      "Cost after epoch 55: 0.004164\n",
      "Cost after epoch 60: 0.001302\n",
      "Cost after epoch 65: 0.003943\n",
      "Cost after epoch 70: 0.003634\n",
      "Cost after epoch 75: 0.006155\n",
      "Cost after epoch 80: 0.001290\n",
      "Cost after epoch 85: 0.003287\n",
      "Cost after epoch 90: 0.002960\n",
      "Cost after epoch 95: 0.004790\n"
     ]
    },
    {
     "data": {
      "image/png": "[encoded data removed]",
      "text/plain": [
       "<Figure size 432x288 with 1 Axes>"
      ]
     },
     "metadata": {
      "needs_background": "light"
     },
     "output_type": "display_data"
    },
    {
     "name": "stdout",
     "output_type": "stream",
     "text": [
      "Train Accuracy: 1.0002545454545455\n",
      "Test Accuracy: 0.9984\n"
     ]
    }
   ],
   "source": [
    "_, _, parameters = model(X_train, Y_train, X_test, Y_test)"
   ]
  },
  {
   "cell_type": "markdown",
   "metadata": {},
   "source": [
    "**Expected output**: although it may not match perfectly, your expected output should be close to ours and your cost value should decrease.\n",
    "\n",
    "<table> \n",
    "<tr>\n",
    "    <td> \n",
    "    **Cost after epoch 0 =**\n",
    "    </td>\n",
    "    <td> \n",
    "      0.958274\n",
    "    </td> \n",
    "</tr>\n",
    "<tr>\n",
    "    <td> \n",
    "    **Cost after epoch 5 =**\n",
    "    </td>\n",
    "    <td> \n",
    "      0.036124\n",
    "    </td> \n",
    "</tr>\n",
    "<tr>\n",
    "    <td> \n",
    "    **Train Accuracy   =**\n",
    "    </td>\n",
    "    <td> \n",
    "      0.9999090909090909\n",
    "    </td> \n",
    "</tr> \n",
    "\n",
    "<tr>\n",
    "    <td> \n",
    "    **Test Accuracy   =**\n",
    "    </td>\n",
    "    <td> \n",
    "      0.998\n",
    "    </td> \n",
    "</tr> \n",
    "</table>"
   ]
  },
  {
   "cell_type": "code",
   "execution_count": 26,
   "metadata": {},
   "outputs": [
    {
     "name": "stdout",
     "output_type": "stream",
     "text": [
      "INFO:tensorflow:Restoring parameters from backup\\my_test_model\n",
      "[ True  True  True  True  True  True  True  True  True  True  True  True\n",
      "  True  True  True  True  True  True  True  True  True  True  True  True\n",
      "  True  True  True  True  True  True  True  True  True  True  True  True\n",
      "  True  True  True  True  True  True  True  True  True  True  True  True\n",
      "  True  True  True  True  True  True  True  True  True  True  True  True\n",
      "  True  True  True  True]\n",
      "64.0\n"
     ]
    }
   ],
   "source": [
    "# Code for restoring the trained model \n",
    "\n",
    "tf.reset_default_graph()\n",
    "\n",
    "saver = tf.train.import_meta_graph('backup/my_test_model.meta')\n",
    "\n",
    "with tf.Session() as sess:\n",
    "    saver.restore(sess,tf.train.latest_checkpoint('backup'))\n",
    "    graph = tf.get_default_graph()    \n",
    "    X = graph.get_tensor_by_name(\"X:0\")\n",
    "    Y = graph.get_tensor_by_name(\"Y:0\")\n",
    "    feed_dict={X:X_train, Y:Y_train}\n",
    "    \n",
    "    iter_init_op = graph.get_operation_by_name(\"iter_init_op\")\n",
    "    sess.run(iter_init_op, feed_dict)\n",
    "    \n",
    "    correct_prediction = graph.get_tensor_by_name(\"correct_prediction:0\")\n",
    "    n_correct = graph.get_tensor_by_name(\"n_correct:0\")\n",
    "    \n",
    "    correct_prediction_out, n_correct_out = sess.run([correct_prediction, n_correct])\n",
    "    print(correct_prediction_out)\n",
    "    print(n_correct_out)\n"
   ]
  },
  {
   "cell_type": "markdown",
   "metadata": {},
   "source": [
    "Congratulations! You have finised the assignment and built a model that recognizes SIGN language with almost 80% accuracy on the test set. If you wish, feel free to play around with this dataset further. You can actually improve its accuracy by spending more time tuning the hyperparameters, or using regularization (as this model clearly has a high variance). \n",
    "\n",
    "Once again, here's a thumbs up for your work! "
   ]
  },
  {
   "cell_type": "code",
   "execution_count": null,
   "metadata": {},
   "outputs": [],
   "source": []
  }
 ],
 "metadata": {
  "coursera": {
   "course_slug": "convolutional-neural-networks",
   "graded_item_id": "bwbJV",
   "launcher_item_id": "0TkXB"
  },
  "kernelspec": {
   "display_name": "Python 3",
   "language": "python",
   "name": "python3"
  },
  "language_info": {
   "codemirror_mode": {
    "name": "ipython",
    "version": 3
   },
   "file_extension": ".py",
   "mimetype": "text/x-python",
   "name": "python",
   "nbconvert_exporter": "python",
   "pygments_lexer": "ipython3",
   "version": "3.6.7"
  }
 },
 "nbformat": 4,
 "nbformat_minor": 1
}
