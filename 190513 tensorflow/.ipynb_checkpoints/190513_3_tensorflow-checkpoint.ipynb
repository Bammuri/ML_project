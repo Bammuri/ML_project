{
 "cells": [
  {
   "cell_type": "code",
   "execution_count": 2,
   "metadata": {},
   "outputs": [],
   "source": [
    "import tensorflow as tf\n",
    "\n",
    "tf.reset_default_graph()\n",
    "\n",
    "a = tf.add(3, 5)\n",
    "\n",
    "writer = tf.summary.FileWriter('./graphs', tf.get_default_graph())\n",
    "writer.close()\n",
    "\n"
   ]
  },
  {
   "cell_type": "code",
   "execution_count": 4,
   "metadata": {},
   "outputs": [],
   "source": [
    "import tensorflow as tf\n",
    "\n",
    "tf.reset_default_graph()\n",
    "\n",
    "x=3\n",
    "z=5\n",
    "a = tf.add(x, z,name='my_add')\n",
    "\n",
    "writer = tf.summary.FileWriter('./graphs', tf.get_default_graph())\n",
    "writer.close()\n"
   ]
  },
  {
   "cell_type": "code",
   "execution_count": 5,
   "metadata": {},
   "outputs": [
    {
     "name": "stdout",
     "output_type": "stream",
     "text": [
      "Tensor(\"Const:0\", shape=(), dtype=int32)\n",
      "Tensor(\"Const_1:0\", shape=(), dtype=int32)\n"
     ]
    }
   ],
   "source": [
    "import tensorflow as tf\n",
    "tf.reset_default_graph()\n",
    "\n",
    "x = tf.constant(3)\n",
    "z = tf.constant(5)\n",
    "\n",
    "print(x)\n",
    "print(z)\n",
    "\n",
    "a = tf.add(x, z)\n",
    "writer = tf.summary.FileWriter('./graphs', tf.get_default_graph())\n",
    "writer.close()\n"
   ]
  },
  {
   "cell_type": "code",
   "execution_count": 6,
   "metadata": {},
   "outputs": [
    {
     "name": "stdout",
     "output_type": "stream",
     "text": [
      "3\n",
      "5\n",
      "8\n"
     ]
    }
   ],
   "source": [
    "import tensorflow as tf\n",
    "tf.reset_default_graph()\n",
    "\n",
    "x = tf.constant(3, name='xx')\n",
    "z = tf.constant(5, name='zz')\n",
    "a = tf.add(x, z, name='Add')\n",
    "writer = tf.summary.FileWriter('./graphs', tf.get_default_graph())\n",
    "\n",
    "sess = tf.Session()\n",
    "print(sess.run(x))\n",
    "print(sess.run(z))\n",
    "print(sess.run(a))\n",
    "sess.close()\n",
    "writer.close()\n"
   ]
  },
  {
   "cell_type": "code",
   "execution_count": 7,
   "metadata": {},
   "outputs": [
    {
     "name": "stdout",
     "output_type": "stream",
     "text": [
      "[3, 5, 8]\n"
     ]
    }
   ],
   "source": [
    "import tensorflow as tf\n",
    "tf.reset_default_graph()\n",
    "\n",
    "x = tf.constant(3, name='xx')\n",
    "z = tf.constant(5, name='zz')\n",
    "a = tf.add(x, z)\n",
    "writer = tf.summary.FileWriter('./graphs', tf.get_default_graph())\n",
    "\n",
    "with tf.Session() as sess:\n",
    "    print(sess.run([x, z, a]))\n",
    "\n",
    "writer.close()\n"
   ]
  },
  {
   "cell_type": "code",
   "execution_count": 9,
   "metadata": {},
   "outputs": [
    {
     "data": {
      "text/plain": [
       "['_Callable',\n",
       " '_DEAD_HANDLES_THRESHOLD',\n",
       " '_NODEDEF_NAME_RE',\n",
       " '__class__',\n",
       " '__del__',\n",
       " '__delattr__',\n",
       " '__dict__',\n",
       " '__dir__',\n",
       " '__doc__',\n",
       " '__enter__',\n",
       " '__eq__',\n",
       " '__exit__',\n",
       " '__format__',\n",
       " '__ge__',\n",
       " '__getattribute__',\n",
       " '__gt__',\n",
       " '__hash__',\n",
       " '__init__',\n",
       " '__init_subclass__',\n",
       " '__le__',\n",
       " '__lt__',\n",
       " '__module__',\n",
       " '__ne__',\n",
       " '__new__',\n",
       " '__reduce__',\n",
       " '__reduce_ex__',\n",
       " '__repr__',\n",
       " '__setattr__',\n",
       " '__sizeof__',\n",
       " '__str__',\n",
       " '__subclasshook__',\n",
       " '__weakref__',\n",
       " '_add_shapes',\n",
       " '_call_tf_sessionprun',\n",
       " '_call_tf_sessionrun',\n",
       " '_closed',\n",
       " '_config',\n",
       " '_current_version',\n",
       " '_dead_handles',\n",
       " '_default_graph_context_manager',\n",
       " '_default_session_context_manager',\n",
       " '_delete_lock',\n",
       " '_do_call',\n",
       " '_do_run',\n",
       " '_extend_graph',\n",
       " '_extend_lock',\n",
       " '_graph',\n",
       " '_make_callable_from_options',\n",
       " '_opened',\n",
       " '_register_dead_handle',\n",
       " '_run',\n",
       " '_session',\n",
       " '_target',\n",
       " '_tf_api_names',\n",
       " '_tf_api_names_v1',\n",
       " '_update_with_movers',\n",
       " 'as_default',\n",
       " 'close',\n",
       " 'graph',\n",
       " 'graph_def',\n",
       " 'list_devices',\n",
       " 'make_callable',\n",
       " 'partial_run',\n",
       " 'partial_run_setup',\n",
       " 'reset',\n",
       " 'run',\n",
       " 'sess_str']"
      ]
     },
     "execution_count": 9,
     "metadata": {},
     "output_type": "execute_result"
    }
   ],
   "source": [
    "\n",
    "dir(tf.Session()) ##enter exit 문은 with문과 같이 쓸수 있다.With : __enter__() & __exit__()"
   ]
  },
  {
   "cell_type": "code",
   "execution_count": 15,
   "metadata": {},
   "outputs": [
    {
     "name": "stdout",
     "output_type": "stream",
     "text": [
      "<class 'numpy.int32'>\n"
     ]
    }
   ],
   "source": [
    "import tensorflow as tf\n",
    "tf.reset_default_graph()\n",
    "\n",
    "x = tf.constant(3, name='xx')\n",
    "z = tf.constant(5, name='zz')\n",
    "a = tf.add(x, z)\n",
    "writer = tf.summary.FileWriter('./graphs', tf.get_default_graph())\n",
    "\n",
    "with tf.Session() as sess:\n",
    "    xx,zz,aa=sess.run([x, z, a])##numpy로 반환\n",
    "    print(type(xx))\n",
    "\n",
    "writer.close()\n"
   ]
  },
  {
   "cell_type": "code",
   "execution_count": 16,
   "metadata": {},
   "outputs": [
    {
     "name": "stdout",
     "output_type": "stream",
     "text": [
      "[[-1. -2.]]\n",
      "Tensor(\"Neg:0\", shape=(1, 2), dtype=float32)\n",
      "[[-1. -2.]]\n"
     ]
    }
   ],
   "source": [
    "import tensorflow as tf\n",
    "tf.reset_default_graph()\n",
    "\n",
    "x = tf.constant([[1., 2.]]) #Define an arbitrary matrix\n",
    "neg_op = tf.negative(x)  #Run the negation operator on it\n",
    "\n",
    "writer = tf.summary.FileWriter('./graphs', tf.get_default_graph())\n",
    "with tf.Session() as sess:  # Start a session to be able to run operations\n",
    "    \n",
    "    ###############1\n",
    "    result = sess.run(neg_op)  # Tell the session to evaluate negMatrix\n",
    "    print(result)\n",
    "    #######\n",
    "    print(neg_op)\n",
    "    ###########2\n",
    "    print(neg_op.eval())\n",
    "    #############\n",
    "    ##1번과 2번은 같은 의미\n",
    "\n",
    "    \n",
    "writer.close()\n"
   ]
  },
  {
   "cell_type": "code",
   "execution_count": 1,
   "metadata": {},
   "outputs": [
    {
     "ename": "ModuleNotFoundError",
     "evalue": "No module named 'tensorflow'",
     "output_type": "error",
     "traceback": [
      "\u001b[1;31m---------------------------------------------------------------------------\u001b[0m",
      "\u001b[1;31mModuleNotFoundError\u001b[0m                       Traceback (most recent call last)",
      "\u001b[1;32m<ipython-input-1-f3db1dabe894>\u001b[0m in \u001b[0;36m<module>\u001b[1;34m\u001b[0m\n\u001b[1;32m----> 1\u001b[1;33m \u001b[1;32mimport\u001b[0m \u001b[0mtensorflow\u001b[0m \u001b[1;32mas\u001b[0m \u001b[0mtf\u001b[0m\u001b[1;33m\u001b[0m\u001b[1;33m\u001b[0m\u001b[0m\n\u001b[0m\u001b[0;32m      2\u001b[0m \u001b[0mtf\u001b[0m\u001b[1;33m.\u001b[0m\u001b[0mreset_default_graph\u001b[0m\u001b[1;33m(\u001b[0m\u001b[1;33m)\u001b[0m\u001b[1;33m\u001b[0m\u001b[1;33m\u001b[0m\u001b[0m\n\u001b[0;32m      3\u001b[0m \u001b[1;33m\u001b[0m\u001b[0m\n\u001b[0;32m      4\u001b[0m \u001b[0mx\u001b[0m \u001b[1;33m=\u001b[0m \u001b[1;36m2\u001b[0m\u001b[1;33m\u001b[0m\u001b[1;33m\u001b[0m\u001b[0m\n\u001b[0;32m      5\u001b[0m \u001b[0my\u001b[0m \u001b[1;33m=\u001b[0m \u001b[1;36m3\u001b[0m\u001b[1;33m\u001b[0m\u001b[1;33m\u001b[0m\u001b[0m\n",
      "\u001b[1;31mModuleNotFoundError\u001b[0m: No module named 'tensorflow'"
     ]
    }
   ],
   "source": [
    "import tensorflow as tf\n",
    "tf.reset_default_graph()\n",
    "\n",
    "x = 2\n",
    "y = 3\n",
    "add_op = tf.add(x, y)\n",
    "mul_op = tf.multiply(x, y)\n",
    "useless = tf.multiply(x, add_op)#이코드는 밑의 세션실행문에서 실행되지 않음 pow_op를 돌리는데 필요없음\n",
    "pow_op = tf.pow(add_op, mul_op)\n",
    "\n",
    "writer = tf.summary.FileWriter('./graphs', tf.get_default_graph())\n",
    "with tf.Session() as sess:\n",
    "    z = sess.run([pow_op])\n",
    "    print(z)\n",
    "writer.close()\n"
   ]
  },
  {
   "cell_type": "code",
   "execution_count": 21,
   "metadata": {},
   "outputs": [
    {
     "name": "stdout",
     "output_type": "stream",
     "text": [
      "15\n",
      "5\n"
     ]
    }
   ],
   "source": [
    "import tensorflow as tf\n",
    "tf.reset_default_graph()\n",
    "\n",
    "variable = tf.Variable(5, name='variable')# tensorflow이 W에 쓰임\n",
    "add = tf.add(variable, 5)\n",
    "initialize = tf.global_variables_initializer()\n",
    "assign = variable.assign(15)\n",
    "\n",
    "# Note that the \"add\" operation is actually omitted in this session\n",
    "writer = tf.summary.FileWriter('./graphs', tf.get_default_graph())\n",
    "with tf.Session() as sess:\n",
    "    sess.run(initialize)\n",
    "    sess.run(assign)\n",
    "    print(sess.run(variable))\n",
    "\n",
    "# In this session, we only execute the initialize operation\n",
    "# other sub-graphs will not be even computed, which saves computation\n",
    "with tf.Session() as sess:\n",
    "    sess.run(initialize)\n",
    "    print(sess.run(variable))\n",
    "writer.close()\n"
   ]
  },
  {
   "cell_type": "code",
   "execution_count": 22,
   "metadata": {},
   "outputs": [
    {
     "name": "stdout",
     "output_type": "stream",
     "text": [
      "[[0 2]\n",
      " [2 6]]\n"
     ]
    }
   ],
   "source": [
    "import tensorflow as tf\n",
    "\n",
    "a = tf.constant([1, 2], name='a')\n",
    "b = tf.constant([[0, 1], [2, 3]], name='b')\n",
    "x = tf.multiply(a, b, name='mul')##broadcasting\n",
    "\n",
    "with tf.Session() as sess:\n",
    "    print(sess.run(x))\n"
   ]
  },
  {
   "cell_type": "code",
   "execution_count": 23,
   "metadata": {},
   "outputs": [
    {
     "name": "stdout",
     "output_type": "stream",
     "text": [
      "[[0 0]\n",
      " [0 0]\n",
      " [0 0]]\n"
     ]
    }
   ],
   "source": [
    "import tensorflow as tf\n",
    "\n",
    "a = tf.zeros([2, 3], tf.int32) \n",
    "input_tensor= tf.constant([[0, 1], [2, 3], [4, 5]])\n",
    "b = tf.zeros_like(input_tensor) \n",
    "\n",
    "with tf.Session() as sess:\n",
    "    print(sess.run(b))\n"
   ]
  },
  {
   "cell_type": "code",
   "execution_count": 28,
   "metadata": {},
   "outputs": [
    {
     "name": "stdout",
     "output_type": "stream",
     "text": [
      "Tensor(\"Fill_4:0\", shape=(2, 3), dtype=int32)\n",
      "[[8 8 8]\n",
      " [8 8 8]]\n"
     ]
    }
   ],
   "source": [
    "a= tf.fill([2, 3], 8)  # [[8, 8, 8], [8, 8, 8]], tf.fill(dims, value, name=None), = numpy.full\n",
    "\n",
    "\n",
    "print(a)\n",
    "with tf.Session() as sess:\n",
    "    print(sess.run(a))"
   ]
  },
  {
   "cell_type": "code",
   "execution_count": 32,
   "metadata": {},
   "outputs": [
    {
     "name": "stdout",
     "output_type": "stream",
     "text": [
      "[10. 11. 12. 13.]\n"
     ]
    }
   ],
   "source": [
    "a=tf.lin_space(10.0, 13.0, 4) # [10. 11. 12. 13.], tf.lin_space(start, stop, num, name=None) \n",
    "with tf.Session() as sess:\n",
    "    print(sess.run(a))"
   ]
  },
  {
   "cell_type": "code",
   "execution_count": 31,
   "metadata": {},
   "outputs": [
    {
     "name": "stdout",
     "output_type": "stream",
     "text": [
      "[ 3  6  9 12 15]\n",
      "[0 1 2 3 4]\n"
     ]
    }
   ],
   "source": [
    "a = tf.range(3, 18, 3) # [3 6 9 12 15], range(limit, delta=1, dtype=None, name='range')\n",
    "b = tf.range(5) # [0 1 2 3 4], range(start, limit, delta=1, dtype=None, name='range')\n",
    "with tf.Session() as sess:\n",
    "    print(sess.run(a))\n",
    "    print(sess.run(b))"
   ]
  },
  {
   "cell_type": "code",
   "execution_count": 36,
   "metadata": {},
   "outputs": [
    {
     "name": "stdout",
     "output_type": "stream",
     "text": [
      "[[3 4]\n",
      " [1 2]\n",
      " [5 6]]\n"
     ]
    }
   ],
   "source": [
    "tf.random_normal([2,3]) # random_normal(shape,mean=0.0,stddev=1.0,dtype=tf.float32,seed=None,name=None)\n",
    "'''\n",
    "tf.truncated_normal(shape, mean=0.0, stddev=1.0, dtype=tf.float32, seed=None,name=None)\n",
    "tf.random_uniform(shape, minval=0, maxval=None, dtype=tf.float32, seed=None, name=None)\n",
    "tf.random_shuffle(value, seed=None, name=None)\n",
    "tf.random_crop(value, size, seed=None, name=None)\n",
    "tf.random_gamma(shape, alpha, beta=None, dtype=tf.float32, seed=None, name=None)\n",
    "'''\n",
    "c = tf.constant([[1,2],[3,4],[5,6]])\n",
    "shuff = tf.random_shuffle(c)\n",
    "with tf.Session() as sess:\n",
    "    print(sess.run(shuff))\n"
   ]
  },
  {
   "cell_type": "code",
   "execution_count": 38,
   "metadata": {},
   "outputs": [
    {
     "name": "stdout",
     "output_type": "stream",
     "text": [
      "WARNING:tensorflow:From <ipython-input-38-ced8b8bde27e>:8: div (from tensorflow.python.ops.math_ops) is deprecated and will be removed in a future version.\n",
      "Instructions for updating:\n",
      "Deprecated in favor of operator or tf.math.divide.\n"
     ]
    },
    {
     "data": {
      "text/plain": [
       "<tf.Tensor 'FloorMod:0' shape=(2,) dtype=int32>"
      ]
     },
     "execution_count": 38,
     "metadata": {},
     "output_type": "execute_result"
    }
   ],
   "source": [
    "a = tf.constant([3, 6])\n",
    "b = tf.constant([2, 2])\n",
    "tf.add(a, b) \t\t# >> [5 8]\n",
    "tf.add_n([a, b, b]) \t# >> [7 10]. Equivalent to a + b + b\n",
    "tf.multiply(a, b) \t\t# >> [6 12] because mul is element wise\n",
    "#tf.matmul(a, b) \t\t# >> ValueError\n",
    "####이건 좀 봐야댐\n",
    "tf.matmul(tf.reshape(a, [1, 2]), tf.reshape(b, [2, 1])) # >> = tf.matmul([[3,6]], [[2],[2]]), [[18]]\n",
    "##이제 곱하기가능\n",
    "\n",
    "tf.div(a, b) # >> [1 3]\n",
    "tf.mod(a, b) # >> [1 0]\n"
   ]
  },
  {
   "cell_type": "code",
   "execution_count": 39,
   "metadata": {},
   "outputs": [
    {
     "name": "stdout",
     "output_type": "stream",
     "text": [
      "[[0 0]\n",
      " [1 1]]\n",
      "[[0.  0.5]\n",
      " [1.  1.5]]\n",
      "[[0 0]\n",
      " [1 1]]\n",
      "[[0 0]\n",
      " [1 1]]\n"
     ]
    }
   ],
   "source": [
    "tf.reset_default_graph()\n",
    "a = tf.constant([2, 2], name='a')\n",
    "b = tf.constant([[0, 1], [2, 3]], name='b')\n",
    "with tf.Session() as sess:\n",
    "\tprint(sess.run(tf.div(b, a)))            #[[0 0] [1 1]] \n",
    "\tprint(sess.run(tf.divide(b, a)))         # [[0. 0.5] [1. 1.5]]\n",
    "\tprint(sess.run(tf.floordiv(b, a)))       # [[0 0] [1 1]], toward negative infinity\n",
    "\tprint(sess.run(tf.truncatediv(b, a)))    # [[0 0] [1 1]], toward zero\n"
   ]
  },
  {
   "cell_type": "code",
   "execution_count": 40,
   "metadata": {},
   "outputs": [
    {
     "name": "stdout",
     "output_type": "stream",
     "text": [
      "[b'' b'' b'']\n"
     ]
    }
   ],
   "source": [
    "tf.reset_default_graph()\n",
    "\n",
    "t_1 = [b\"apple\", b\"peach\", b\"grape\"] # 1-d arrays are treated like 1-d tensors\n",
    "c = tf.zeros_like(t_1) \t\t# ==> [b'' b'' b''], refer to tf.zero_like\n",
    "#d = tf.ones_like(t_1) \t\t# ==> TypeError: Expected string, got 1 of type 'int' instead.\n",
    "\n",
    "with tf.Session() as sess:\n",
    "    print(sess.run(c))\n"
   ]
  },
  {
   "cell_type": "code",
   "execution_count": 41,
   "metadata": {},
   "outputs": [
    {
     "data": {
      "text/plain": [
       "<tf.Tensor 'ones_like:0' shape=(3, 3) dtype=bool>"
      ]
     },
     "execution_count": 41,
     "metadata": {},
     "output_type": "execute_result"
    }
   ],
   "source": [
    "t_2 = [[True, False, False],\n",
    "[False, False, True],\n",
    "[False, True, False]]\n",
    "tf.zeros_like(t_2) # ==> 3x3 tensor, all elements are False\n",
    "tf.ones_like(t_2) # ==> 2x2 tensor, all elements are True\n"
   ]
  },
  {
   "cell_type": "code",
   "execution_count": 43,
   "metadata": {},
   "outputs": [
    {
     "name": "stdout",
     "output_type": "stream",
     "text": [
      "b'hello'\n",
      "hello\n"
     ]
    }
   ],
   "source": [
    "#for your information 바이트코드에서 유니코드로 변환하는 법 앞에 b를 쓰면 바이트코드\n",
    "d = tf.constant(\"hello\")\n",
    "with tf.Session() as sess:\n",
    "    print(sess.run(d))\n",
    "    print(sess.run(d).decode('utf-8'))\n"
   ]
  },
  {
   "cell_type": "code",
   "execution_count": 44,
   "metadata": {},
   "outputs": [
    {
     "name": "stdout",
     "output_type": "stream",
     "text": [
      "<class 'tensorflow.python.framework.ops.Tensor'>\n",
      "<class 'numpy.ndarray'>\n"
     ]
    }
   ],
   "source": [
    "import numpy as np\n",
    "\n",
    "assert tf.int32 == np.int32 # ⇒ True\n",
    "\n",
    "#Can pass numpy types to TensorFlow ops\n",
    "tf.ones([2, 2], np.float32)  # ⇒ [[1.0 1.0], [1.0 1.0]]\n",
    "\n",
    "#For tf.Session.run(fetches), if the requested fetch is a Tensor, output will be a NumPy ndarray.\n",
    "a = tf.zeros([2, 3], np.int32)\n",
    "print(type(a))  # ⇒ <class 'tensorflow.python.framework.ops.Tensor'>\n",
    "with tf.Session() as sess:\n",
    "    a = sess.run(a)\n",
    "    print(type(a)) # ⇒ <class 'numpy.ndarray'>. Thus, use a_out = sess.run(a)\n"
   ]
  },
  {
   "cell_type": "code",
   "execution_count": 46,
   "metadata": {
    "scrolled": true
   },
   "outputs": [
    {
     "name": "stdout",
     "output_type": "stream",
     "text": [
      "node {\n",
      "  name: \"my_const\"\n",
      "  op: \"Const\"\n",
      "  attr {\n",
      "    key: \"dtype\"\n",
      "    value {\n",
      "      type: DT_FLOAT\n",
      "    }\n",
      "  }\n",
      "  attr {\n",
      "    key: \"value\"\n",
      "    value {\n",
      "      tensor {\n",
      "        dtype: DT_FLOAT\n",
      "        tensor_shape {\n",
      "          dim {\n",
      "            size: 2\n",
      "          }\n",
      "        }\n",
      "        tensor_content: \"\\000\\000\\200?\\000\\000\\000@\"\n",
      "      }\n",
      "    }\n",
      "  }\n",
      "}\n",
      "versions {\n",
      "  producer: 27\n",
      "}\n",
      "\n"
     ]
    }
   ],
   "source": [
    "tf.reset_default_graph()\n",
    "my_const = tf.constant([1.0, 2.0], name=\"my_const\")\n",
    "writer = tf.summary.FileWriter('./graphs', tf.get_default_graph())\n",
    "with tf.Session() as sess:\n",
    "    print(sess.graph.as_graph_def()) #Returns a serialized GraphDef representation of this graph.\n",
    "writer.close()"
   ]
  },
  {
   "cell_type": "code",
   "execution_count": 49,
   "metadata": {},
   "outputs": [
    {
     "name": "stdout",
     "output_type": "stream",
     "text": [
      "<tf.Variable 'scalar_4:0' shape=() dtype=int32_ref>\n",
      "<tf.Variable 'scalar_5:0' shape=() dtype=int32_ref>\n"
     ]
    }
   ],
   "source": [
    "# create variables with tf.Variable\n",
    "s = tf.Variable(2, name=\"scalar\") \n",
    "m = tf.Variable([[0, 1], [2, 3]], name=\"matrix\") \n",
    "W = tf.Variable(tf.zeros([784,10]))\n",
    "\n",
    "#위 아래것 둘다 똑같은 교수님은 아래꺼 추천\n",
    "# create variables with tf.get_variable, PREFERRED \n",
    "\n",
    "#s = tf.get_variable(\"scalar\", initializer=tf.constant(2)) \n",
    "ss = tf.Variable(2, name=\"scalar\") \n",
    "#m = tf.get_variable(\"matrix\", initializer=tf.constant([[0, 1], [2, 3]]))\n",
    "#W = tf.get_variable(\"big_matrix\", shape=(784, 10), initializer=tf.zeros_initializer())\n",
    "print(s)\n",
    "print(ss)\n",
    "# scalar 뒤에 :0은 output의 갯수"
   ]
  },
  {
   "cell_type": "code",
   "execution_count": 56,
   "metadata": {},
   "outputs": [
    {
     "name": "stdout",
     "output_type": "stream",
     "text": [
      "<tf.Variable 'other_variable:0' shape=(2,) dtype=int32_ref>\n",
      "<tf.Variable 'my_int_variable:0' shape=(1, 2, 3) dtype=int32_ref>\n",
      "[23 42]\n"
     ]
    }
   ],
   "source": [
    "import tensorflow as tf\n",
    "tf.reset_default_graph() \n",
    "other_variable = tf.get_variable(\"other_variable\", dtype=tf.int32, \\\n",
    "                                 initializer=tf.constant([23, 42]))\n",
    "my_int_variable = tf.get_variable(\"my_int_variable\", [1, 2, 3], dtype=tf.int32, \\\n",
    "                                  initializer=tf.zeros_initializer())\n",
    "print(other_variable)\n",
    "print(my_int_variable)\n",
    "\n",
    "with tf.Session() as sess:\n",
    "    sess.run(tf.global_variables_initializer())\n",
    "    print(sess.run(other_variable))\n"
   ]
  },
  {
   "cell_type": "code",
   "execution_count": 53,
   "metadata": {},
   "outputs": [
    {
     "name": "stdout",
     "output_type": "stream",
     "text": [
      "[5, 4]\n"
     ]
    }
   ],
   "source": [
    "a = tf.Variable(5, name=\"scalar\")\n",
    "b = tf.Variable(4, name=\"scalar\")\n",
    "\n",
    "with tf.Session() as sess:\n",
    "    sess.run(tf.global_variables_initializer())\n",
    "    print(sess.run([a, b]))  # [5, 4]\n"
   ]
  },
  {
   "cell_type": "code",
   "execution_count": 54,
   "metadata": {},
   "outputs": [
    {
     "name": "stdout",
     "output_type": "stream",
     "text": [
      "[5, 4]\n"
     ]
    }
   ],
   "source": [
    "a = tf.get_variable(\"scalar1\", initializer=5)\n",
    "b = tf.get_variable(\"scalar2\", initializer=4)#1로 바꿔주면 에러\n",
    "\n",
    "with tf.Session() as sess:\n",
    "    sess.run(tf.global_variables_initializer())\n",
    "    print(sess.run([a, b]))  # [5, 4]\n"
   ]
  },
  {
   "cell_type": "code",
   "execution_count": 58,
   "metadata": {},
   "outputs": [
    {
     "name": "stdout",
     "output_type": "stream",
     "text": [
      "[[0. 0. 0. ... 0. 0. 0.]\n",
      " [0. 0. 0. ... 0. 0. 0.]\n",
      " [0. 0. 0. ... 0. 0. 0.]\n",
      " ...\n",
      " [0. 0. 0. ... 0. 0. 0.]\n",
      " [0. 0. 0. ... 0. 0. 0.]\n",
      " [0. 0. 0. ... 0. 0. 0.]]\n"
     ]
    }
   ],
   "source": [
    "import tensorflow as tf\n",
    "tf.reset_default_graph()\n",
    "\n",
    "# create variables with tf.get_variable\n",
    "s = tf.get_variable(\"scalar\", initializer=tf.constant(2)) \n",
    "m = tf.get_variable(\"matrix\", initializer=tf.constant([[0, 1], [2, 3]]))\n",
    "W = tf.get_variable(\"big_matrix\", shape=(784, 10), initializer=tf.zeros_initializer())\n",
    "\n",
    "# initialize all variables at once:\n",
    "with tf.Session() as sess:\n",
    "    sess.run(tf.global_variables_initializer())\n",
    "    sess.run(W)\n",
    "    print(sess.run(W))"
   ]
  },
  {
   "cell_type": "code",
   "execution_count": 59,
   "metadata": {},
   "outputs": [],
   "source": [
    "import tensorflow as tf\n",
    "tf.reset_default_graph()\n",
    "\n",
    "# create variables with tf.get_variable\n",
    "s = tf.get_variable(\"scalar\", initializer=tf.constant(2)) \n",
    "m = tf.get_variable(\"matrix\", initializer=tf.constant([[0, 1], [2, 3]]))\n",
    "W = tf.get_variable(\"big_matrix\", shape=(784, 10), initializer=tf.zeros_initializer())\n",
    "\n",
    "# initialize all variables at once:\n",
    "with tf.Session() as sess:\n",
    "    sess.run([W.initializer,m.initializer])\n",
    "#    sess.run(tf.variables_initializer([W,m])) # it also works\n",
    "    sess.run(W)\n"
   ]
  },
  {
   "cell_type": "code",
   "execution_count": 61,
   "metadata": {},
   "outputs": [
    {
     "name": "stdout",
     "output_type": "stream",
     "text": [
      "[<tf.Variable 'scalar:0' shape=() dtype=int32_ref>, <tf.Variable 'matrix:0' shape=(2, 2) dtype=int32_ref>, <tf.Variable 'big_matrix:0' shape=(784, 10) dtype=float32_ref>]\n"
     ]
    }
   ],
   "source": [
    "print(tf.global_variables())"
   ]
  },
  {
   "cell_type": "code",
   "execution_count": 62,
   "metadata": {},
   "outputs": [],
   "source": [
    "v = tf.get_variable(\"v\", shape=(), initializer=tf.zeros_initializer())\n",
    "w = tf.get_variable(\"w\", initializer=v.initialized_value() + 1)\n",
    "#순서대로 실행되어아할 필요성이 있는 코드\n"
   ]
  },
  {
   "cell_type": "code",
   "execution_count": 63,
   "metadata": {},
   "outputs": [
    {
     "ename": "AssertionError",
     "evalue": "",
     "output_type": "error",
     "traceback": [
      "\u001b[1;31m---------------------------------------------------------------------------\u001b[0m",
      "\u001b[1;31mAssertionError\u001b[0m                            Traceback (most recent call last)",
      "\u001b[1;32m<ipython-input-63-1723b7de14f3>\u001b[0m in \u001b[0;36m<module>\u001b[1;34m\u001b[0m\n\u001b[0;32m     17\u001b[0m \u001b[1;33m\u001b[0m\u001b[0m\n\u001b[0;32m     18\u001b[0m \u001b[1;32massert\u001b[0m\u001b[1;33m(\u001b[0m\u001b[0ma\u001b[0m \u001b[1;32mis\u001b[0m \u001b[0mc\u001b[0m\u001b[1;33m)\u001b[0m  \u001b[1;31m#Assertion is true, they refer to the same object.\u001b[0m\u001b[1;33m\u001b[0m\u001b[1;33m\u001b[0m\u001b[0m\n\u001b[1;32m---> 19\u001b[1;33m \u001b[1;32massert\u001b[0m\u001b[1;33m(\u001b[0m\u001b[0ma\u001b[0m \u001b[1;32mis\u001b[0m \u001b[0md\u001b[0m\u001b[1;33m)\u001b[0m  \u001b[1;31m#AssertionError: they are different objects\u001b[0m\u001b[1;33m\u001b[0m\u001b[1;33m\u001b[0m\u001b[0m\n\u001b[0m\u001b[0;32m     20\u001b[0m \u001b[1;32massert\u001b[0m\u001b[1;33m(\u001b[0m\u001b[0md\u001b[0m \u001b[1;32mis\u001b[0m \u001b[0me\u001b[0m\u001b[1;33m)\u001b[0m  \u001b[1;31m#AssertionError: they are different objects\u001b[0m\u001b[1;33m\u001b[0m\u001b[1;33m\u001b[0m\u001b[0m\n",
      "\u001b[1;31mAssertionError\u001b[0m: "
     ]
    }
   ],
   "source": [
    "import tensorflow as tf\n",
    "\n",
    "tf.reset_default_graph()\n",
    "\n",
    "with tf.variable_scope(\"one\"):\n",
    "    a = tf.get_variable(\"v\", [1]) #a.name == \"one/v:0\"\n",
    "#with tf.variable_scope(\"one\"):\n",
    "#    b = tf.get_variable(\"v\", [1]) \n",
    "#ValueError: Variable one/v already exists\n",
    "with tf.variable_scope(\"one\", reuse = True):\n",
    "    c = tf.get_variable(\"v\", [1]) #c.name == \"one/v:0\" 같은 variable을 가리킴\n",
    "\n",
    "with tf.variable_scope(\"two\"):\n",
    "    d = tf.get_variable(\"v\", [1]) #d.name == \"two/v:0\"\n",
    "    e = tf.Variable(1, name = \"v\", expected_shape = [1]) \n",
    "#e.name == \"two/v_1:0\"\n",
    "\n",
    "assert(a is c)  #Assertion is true, they refer to the same object.\n",
    "assert(a is d)  #AssertionError: they are different objects\n",
    "assert(d is e)  #AssertionError: they are different objects\n"
   ]
  },
  {
   "cell_type": "code",
   "execution_count": null,
   "metadata": {},
   "outputs": [],
   "source": []
  },
  {
   "cell_type": "code",
   "execution_count": null,
   "metadata": {},
   "outputs": [],
   "source": []
  }
 ],
 "metadata": {
  "kernelspec": {
   "display_name": "Python 3",
   "language": "python",
   "name": "python3"
  },
  "language_info": {
   "codemirror_mode": {
    "name": "ipython",
    "version": 3
   },
   "file_extension": ".py",
   "mimetype": "text/x-python",
   "name": "python",
   "nbconvert_exporter": "python",
   "pygments_lexer": "ipython3",
   "version": "3.7.3"
  }
 },
 "nbformat": 4,
 "nbformat_minor": 2
}
